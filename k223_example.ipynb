{
 "cells": [
  {
   "cell_type": "code",
   "execution_count": 1,
   "id": "3fc9db38",
   "metadata": {},
   "outputs": [
    {
     "name": "stdout",
     "output_type": "stream",
     "text": [
      "Stellar Parameters:\n",
      "  hostname: Kepler-223\n",
      "  st_mass: 1.125\n",
      "  st_rad: 1.72\n",
      "  st_teff: 5803.0\n",
      "\n",
      "Planetary Parameters:\n",
      "        pl_name    hostname  pl_orbper  pl_orbsmax  pl_orbeccen  pl_orbincl  \\\n",
      "0  Kepler-223 d  Kepler-223   14.78869     0.11956        0.037       87.94   \n",
      "1  Kepler-223 b  Kepler-223    7.38449     0.07525        0.078       90.00   \n",
      "2  Kepler-223 c  Kepler-223    9.84564     0.09117        0.150       90.00   \n",
      "3  Kepler-223 e  Kepler-223   19.72567     0.14481        0.051       88.00   \n",
      "\n",
      "   pl_masse  pl_msinie  pl_bmasse  pl_rade  \n",
      "0       8.0        NaN        8.0     5.24  \n",
      "1       7.4        NaN        7.4     2.99  \n",
      "2       5.1        NaN        5.1     3.44  \n",
      "3       4.8        NaN        4.8     4.60  \n"
     ]
    }
   ],
   "source": [
    "import requests\n",
    "import pandas as pd\n",
    "from io import StringIO\n",
    "\n",
    "def fetch_kepler_system(system_name='Kepler-223'):\n",
    "    \"\"\"\n",
    "    Fetches masses and orbital parameters of the star and planets\n",
    "    in the specified system from NASA Exoplanet Archive.\n",
    "\n",
    "    Parameters\n",
    "    ----------\n",
    "    system_name : str\n",
    "        Name of the planetary system (e.g., 'Kepler-223')\n",
    "\n",
    "    Returns\n",
    "    -------\n",
    "    star_data : dict\n",
    "        Dictionary of stellar parameters\n",
    "    planet_df : pd.DataFrame\n",
    "        DataFrame of planetary parameters\n",
    "    \"\"\"\n",
    "\n",
    "    # Query combined planet and stellar data from pscomppars\n",
    "    url = \"https://exoplanetarchive.ipac.caltech.edu/TAP/sync\"\n",
    "    query = f\"\"\"\n",
    "    SELECT pl_name, hostname, pl_orbper, pl_orbsmax, pl_orbeccen, pl_orbincl,\n",
    "           pl_masse, pl_msinie, pl_bmasse, pl_rade,\n",
    "           st_mass, st_rad, st_teff\n",
    "    FROM pscomppars\n",
    "    WHERE hostname='{system_name}'\n",
    "    \"\"\"\n",
    "\n",
    "    response = requests.get(url, params={\n",
    "        \"query\": query,\n",
    "        \"format\": \"csv\"\n",
    "    })\n",
    "\n",
    "    if response.status_code != 200:\n",
    "        raise Exception(f\"Failed to fetch data: {response.status_code}\\n{response.text}\")\n",
    "\n",
    "    df = pd.read_csv(StringIO(response.text))\n",
    "    \n",
    "    # Extract stellar data from the first row (same for all planets)\n",
    "    star_cols = ['hostname', 'st_mass', 'st_rad', 'st_teff']\n",
    "    star_data = df[star_cols].iloc[0].to_dict()\n",
    "\n",
    "    # Drop duplicate star columns from planet table\n",
    "    planet_df = df.drop(columns=[col for col in star_cols if col != 'hostname'])\n",
    "\n",
    "    return star_data, planet_df\n",
    "\n",
    "# Example usage\n",
    "if __name__ == \"__main__\":\n",
    "    star, planets = fetch_kepler_system(\"Kepler-223\")\n",
    "\n",
    "    print(\"Stellar Parameters:\")\n",
    "    for k, v in star.items():\n",
    "        print(f\"  {k}: {v}\")\n",
    "\n",
    "    print(\"\\nPlanetary Parameters:\")\n",
    "    print(planets)\n"
   ]
  },
  {
   "cell_type": "code",
   "execution_count": 2,
   "id": "4984c4af",
   "metadata": {},
   "outputs": [],
   "source": [
    "import numpy as np\n",
    "iorder = np.argsort(planets.pl_orbper)\n",
    "masses =np.array(3e-6 * planets.pl_masse / star['st_mass'])[iorder]\n",
    "periods = np.array(planets.pl_orbper[iorder])\n",
    "resonances = [(j,1) for j in np.round(1 + 1/(periods[1:]/periods[:-1]-1)).astype(int)]\n"
   ]
  },
  {
   "cell_type": "code",
   "execution_count": 4,
   "id": "66ddf999",
   "metadata": {},
   "outputs": [],
   "source": [
    "import sys\n",
    "sys.path.append(\"../../22_chain_dynamics/\")\n",
    "\n",
    "\n",
    "from resonant_chains import ResonantChainPoissonSeries\n",
    "import celmech as cm\n",
    "\n",
    "from celmech.poisson_series import PSTerm, PoissonSeries\n",
    "\n",
    "import sympy as sp"
   ]
  },
  {
   "cell_type": "code",
   "execution_count": 9,
   "id": "d0fc3ab6",
   "metadata": {},
   "outputs": [],
   "source": [
    "from resonant_chains import get_chain_rebound_sim\n",
    "def get_chain_hpert(resonances, max_order,max_order_dl = 1):\n",
    "    sim = get_chain_rebound_sim(resonances,masses)\n",
    "    pvars = cm.Poincare.from_Simulation(sim)\n",
    "    pham = cm.PoincareHamiltonian(pvars)\n",
    "    periods = []\n",
    "    period = 1\n",
    "    periods.append(period)\n",
    "    for j,k in resonances:\n",
    "        period *= j/sp.S(j-k)\n",
    "        periods.append(period)\n",
    "    hpert_series_terms = []\n",
    "    \n",
    "    ei_order = lambda k,nu: np.sum(np.abs(k[2:])) + 2*np.sum(nu)\n",
    "    for i1,p1 in enumerate(periods):\n",
    "        for i2,p2 in zip(range(i1+1,len(periods)),periods[i1+1:]):\n",
    "            pratio = p2/p1\n",
    "            p,q = int(sp.numer(pratio)),int(sp.numer(pratio) - sp.denom(pratio))\n",
    "            resonant_terms = cm.disturbing_function.list_resonance_terms(p,q,max_order = max_order)\n",
    "            if len(resonant_terms)>0:\n",
    "                print(\"adding terms for {}:{} MMR between {} and {}\".format(p,q,i1+1,i2+1))\n",
    "            for k,nu in resonant_terms:\n",
    "                hpert_series_terms += cm.poisson_series.DFTerm_as_PSterms(pham,i1+1,i2+1,k,nu,(0,0))\n",
    "                if ei_order(k,nu) <= max_order_dl:\n",
    "                    hpert_series_terms += cm.poisson_series.DFTerm_as_PSterms(pham,i1+1,i2+1,k,nu,(1,0))\n",
    "                    hpert_series_terms += cm.poisson_series.DFTerm_as_PSterms(pham,i1+1,i2+1,k,nu,(0,1))\n",
    "                \n",
    "    secular_terms = cm.disturbing_function.list_secular_terms(min_order=0,max_order = max_order)\n",
    "    for k,nu in secular_terms:\n",
    "        for i1 in range(1,sim.N):\n",
    "            for i2 in range(i1+1,sim.N):\n",
    "                hpert_series_terms += cm.poisson_series.DFTerm_as_PSterms(pham,i1,i2,k,nu,(0,0))\n",
    "                if ei_order(k,nu) <= max_order_dl:\n",
    "                    hpert_series_terms += cm.poisson_series.DFTerm_as_PSterms(pham,i1,i2,k,nu,(1,0))\n",
    "                    hpert_series_terms += cm.poisson_series.DFTerm_as_PSterms(pham,i1,i2,k,nu,(0,1))\n",
    "    return PoissonSeries.from_PSTerms(hpert_series_terms)"
   ]
  },
  {
   "cell_type": "code",
   "execution_count": 113,
   "id": "b1acc7a8",
   "metadata": {},
   "outputs": [
    {
     "name": "stdout",
     "output_type": "stream",
     "text": [
      "adding terms for 4:1 MMR between 1 and 2\n",
      "adding terms for 2:1 MMR between 1 and 3\n",
      "adding terms for 3:1 MMR between 2 and 3\n",
      "adding terms for 2:1 MMR between 2 and 4\n",
      "adding terms for 4:1 MMR between 3 and 4\n"
     ]
    }
   ],
   "source": [
    "hpert_series = get_chain_hpert(resonances,3,1)\n",
    "rc_poisson = ResonantChainPoissonSeries(resonances,masses,hpert_series)"
   ]
  },
  {
   "cell_type": "code",
   "execution_count": 114,
   "id": "d233ae8e",
   "metadata": {},
   "outputs": [
    {
     "name": "stdout",
     "output_type": "stream",
     "text": [
      "[0. 0. 0. 0. 0. 0. 0. 0. 0. 0. 0. 0.]\n",
      "[ 0.00930002 -0.00930002  0.00406394 -0.00406394  0.00293499 -0.00293499\n",
      "  0.0009413  -0.0009413   0.00199059 -0.00199059  0.00190801 -0.00190801]\n"
     ]
    }
   ],
   "source": [
    "Ndim = 2 * (rc_poisson.M + rc_poisson.N_planar)\n",
    "rc_poisson.dK2 = 0\n",
    "guess = np.zeros(Ndim)\n",
    "guess[rc_poisson.N_planar] = 90*np.pi/180\n",
    "guess[rc_poisson.N_planar+1] = -90*np.pi/180\n",
    "guess = newton_solve2(rc_poisson.planar_flow_and_jacobian,guess)\n",
    "    \n",
    "eigs = np.linalg.eigvals(rc_poisson.planar_jacobian(guess))\n",
    "re_eigs = np.real(eigs)\n",
    "re_eigs[np.isclose(re_eigs,0)]=0\n",
    "print(re_eigs)\n",
    "print(np.imag(eigs))"
   ]
  },
  {
   "cell_type": "code",
   "execution_count": 255,
   "id": "c750dc0a",
   "metadata": {},
   "outputs": [],
   "source": [
    "from resonant_chains import newton_solve2,_get_nu_from_resonances"
   ]
  },
  {
   "cell_type": "code",
   "execution_count": 262,
   "id": "c68d3e93",
   "metadata": {},
   "outputs": [
    {
     "data": {
      "text/latex": [
       "$\\displaystyle \\left[\\begin{matrix}8\\\\6\\\\4\\\\3\\end{matrix}\\right]$"
      ],
      "text/plain": [
       "⎡8⎤\n",
       "⎢ ⎥\n",
       "⎢6⎥\n",
       "⎢ ⎥\n",
       "⎢4⎥\n",
       "⎢ ⎥\n",
       "⎣3⎦"
      ]
     },
     "execution_count": 262,
     "metadata": {},
     "output_type": "execute_result"
    }
   ],
   "source": [
    "_get_nu_from_resonances(resonances) / 3 /3 /2"
   ]
  },
  {
   "cell_type": "code",
   "execution_count": 259,
   "id": "204efd74",
   "metadata": {},
   "outputs": [
    {
     "data": {
      "text/plain": [
       "array([8., 6., 4., 3., 0., 0., 0., 0., 0., 0., 0., 0.])"
      ]
     },
     "execution_count": 259,
     "metadata": {},
     "output_type": "execute_result"
    }
   ],
   "source": [
    "rc_poisson.Tmtrx_inv.T[0]"
   ]
  },
  {
   "cell_type": "code",
   "execution_count": 116,
   "id": "24cf01b7",
   "metadata": {},
   "outputs": [],
   "source": [
    "N = 20\n",
    "eigs= np.zeros((N,Ndim),dtype=complex)\n",
    "periods = np.zeros((N,4))\n",
    "eccentricities = np.zeros((N,4))\n",
    "eqs = np.zeros((N,guess.size))\n",
    "dK2vals =  np.linspace(0,-0.003,N)\n",
    "for i,dK2 in enumerate(dK2vals):\n",
    "    rc_poisson.dK2 = dK2\n",
    "    guess = newton_solve2(rc_poisson.planar_flow_and_jacobian,guess)\n",
    "    pvars = rc_poisson.real_planar_vars_to_pvars(guess)\n",
    "    eigs[i] = np.linalg.eigvals(rc_poisson.planar_jacobian(guess))\n",
    "    periods[i] = [p.P for p in pvars.particles[1:]]\n",
    "    eccentricities[i] = [p.e for p in pvars.particles[1:]]\n",
    "    eqs[i] = guess"
   ]
  },
  {
   "cell_type": "code",
   "execution_count": 117,
   "id": "b36b8692",
   "metadata": {},
   "outputs": [
    {
     "data": {
      "text/plain": [
       "[<matplotlib.lines.Line2D at 0x7f7067a74dd0>]"
      ]
     },
     "execution_count": 117,
     "metadata": {},
     "output_type": "execute_result"
    },
    {
     "data": {
      "image/png": "[encoded data removed]",
      "text/plain": [
       "<Figure size 640x480 with 1 Axes>"
      ]
     },
     "metadata": {},
     "output_type": "display_data"
    }
   ],
   "source": [
    "plt.plot(eqs[:,4]-eqs[0,4])\n",
    "plt.plot(eqs[:,5]-eqs[0,5])"
   ]
  },
  {
   "cell_type": "code",
   "execution_count": 125,
   "id": "56768e0a",
   "metadata": {},
   "outputs": [],
   "source": [
    "Deltas = [(jk[0]-jk[1])*ratio / jk[0] - 1 for jk,ratio in zip(resonances,(periods[:,1:]/periods[:,:-1]).T)]"
   ]
  },
  {
   "cell_type": "code",
   "execution_count": 126,
   "id": "9709ad69",
   "metadata": {},
   "outputs": [
    {
     "data": {
      "text/plain": [
       "[<matplotlib.lines.Line2D at 0x7f7065bb2290>,\n",
       " <matplotlib.lines.Line2D at 0x7f7065bb0ad0>,\n",
       " <matplotlib.lines.Line2D at 0x7f7065bb1210>,\n",
       " <matplotlib.lines.Line2D at 0x7f7065bb0390>]"
      ]
     },
     "execution_count": 126,
     "metadata": {},
     "output_type": "execute_result"
    },
    {
     "data": {
      "image/png": "[encoded data removed]",
      "text/plain": [
       "<Figure size 640x480 with 1 Axes>"
      ]
     },
     "metadata": {},
     "output_type": "display_data"
    },
    {
     "data": {
      "image/png": "[encoded data removed]",
      "text/plain": [
       "<Figure size 640x480 with 1 Axes>"
      ]
     },
     "metadata": {},
     "output_type": "display_data"
    }
   ],
   "source": [
    "re_eigs = np.real(eigs)\n",
    "re_eigs[np.isclose(re_eigs,0)]=0\n",
    "freqs = np.sort(np.imag(eigs),axis=1)[:,Ndim//2:]\n",
    "\n",
    "plt.plot(Deltas[0],freqs)\n",
    "plt.figure()\n",
    "plt.plot(Deltas[0],eccentricities)"
   ]
  },
  {
   "cell_type": "code",
   "execution_count": 102,
   "id": "768c64b6",
   "metadata": {
    "scrolled": true
   },
   "outputs": [],
   "source": [
    "from scipy.integrate import solve_ivp"
   ]
  },
  {
   "cell_type": "code",
   "execution_count": 103,
   "id": "ba064ce6",
   "metadata": {},
   "outputs": [],
   "source": [
    "soln = solve_ivp(\n",
    "    lambda t,y: rc_poisson.planar_flow(y),\n",
    "    (0,10_000),\n",
    "    guess + 1e-5 * np.random.normal(size=Ndim),\n",
    "    method='Radau',\n",
    "    jac = lambda t,y: rc_poisson.planar_jacobian(y)\n",
    ")"
   ]
  },
  {
   "cell_type": "code",
   "execution_count": 104,
   "id": "085162e7",
   "metadata": {},
   "outputs": [],
   "source": [
    "from matplotlib import pyplot as plt\n"
   ]
  },
  {
   "cell_type": "code",
   "execution_count": 105,
   "id": "250bd57e",
   "metadata": {},
   "outputs": [
    {
     "data": {
      "text/latex": [
       "$\\displaystyle 6$"
      ],
      "text/plain": [
       "6"
      ]
     },
     "execution_count": 105,
     "metadata": {},
     "output_type": "execute_result"
    }
   ],
   "source": [
    "Ndim//2"
   ]
  },
  {
   "cell_type": "code",
   "execution_count": 106,
   "id": "c3f8313b",
   "metadata": {},
   "outputs": [
    {
     "data": {
      "image/png": "[encoded data removed]",
      "text/plain": [
       "<Figure size 640x480 with 1 Axes>"
      ]
     },
     "metadata": {},
     "output_type": "display_data"
    }
   ],
   "source": [
    "for i in range(4):\n",
    "\n",
    "    plt.plot(soln.y[i],soln.y[Ndim//2 + i],'.')"
   ]
  },
  {
   "cell_type": "code",
   "execution_count": 107,
   "id": "68a9e8eb",
   "metadata": {
    "scrolled": false
   },
   "outputs": [
    {
     "data": {
      "text/plain": [
       "[<matplotlib.lines.Line2D at 0x7f706c03c250>]"
      ]
     },
     "execution_count": 107,
     "metadata": {},
     "output_type": "execute_result"
    },
    {
     "data": {
      "image/png": "[encoded data removed]",
      "text/plain": [
       "<Figure size 640x480 with 1 Axes>"
      ]
     },
     "metadata": {},
     "output_type": "display_data"
    }
   ],
   "source": [
    "plt.plot(soln.t,soln.y[rc_poisson.N_planar]*180/np.pi)\n",
    "plt.plot(soln.t,soln.y[rc_poisson.N_planar+1]*180/np.pi)"
   ]
  },
  {
   "cell_type": "code",
   "execution_count": null,
   "id": "10761722",
   "metadata": {},
   "outputs": [],
   "source": [
    "rc_poisson._pl"
   ]
  },
  {
   "cell_type": "code",
   "execution_count": 132,
   "id": "ea2d879f",
   "metadata": {},
   "outputs": [
    {
     "data": {
      "text/plain": [
       "<celmech.poisson_series.PoissonSeries at 0x7f7068eddc50>"
      ]
     },
     "execution_count": 132,
     "metadata": {},
     "output_type": "execute_result"
    }
   ],
   "source": [
    "from resonant_chains import _real_flow\n",
    "\n",
    "rc_poisson.complex_full_flow_list"
   ]
  },
  {
   "cell_type": "code",
   "execution_count": 131,
   "id": "aaa9d47b",
   "metadata": {},
   "outputs": [
    {
     "data": {
      "text/plain": [
       "[<celmech.poisson_series.PoissonSeries at 0x7f706776bc10>,\n",
       " <celmech.poisson_series.PoissonSeries at 0x7f70641e9590>,\n",
       " <celmech.poisson_series.PoissonSeries at 0x7f7064591bd0>,\n",
       " <celmech.poisson_series.PoissonSeries at 0x7f705fcaf910>,\n",
       " <celmech.poisson_series.PoissonSeries at 0x7f705f96d1d0>,\n",
       " <celmech.poisson_series.PoissonSeries at 0x7f705f87bc10>,\n",
       " <celmech.poisson_series.PoissonSeries at 0x7f70644fde90>,\n",
       " <celmech.poisson_series.PoissonSeries at 0x7f705f87b590>,\n",
       " <celmech.poisson_series.PoissonSeries at 0x7f7064532610>,\n",
       " <celmech.poisson_series.PoissonSeries at 0x7f705fa7c5d0>,\n",
       " <celmech.poisson_series.PoissonSeries at 0x7f7065b2b550>,\n",
       " <celmech.poisson_series.PoissonSeries at 0x7f705f9b1d10>,\n",
       " <celmech.poisson_series.PoissonSeries at 0x7f705fc991d0>,\n",
       " <celmech.poisson_series.PoissonSeries at 0x7f705feb57d0>,\n",
       " <celmech.poisson_series.PoissonSeries at 0x7f705f636610>,\n",
       " <celmech.poisson_series.PoissonSeries at 0x7f705f636650>]"
      ]
     },
     "execution_count": 131,
     "metadata": {},
     "output_type": "execute_result"
    }
   ],
   "source": [
    "from resonant_chains import hamiltonian_series_to_flow_series_list\n",
    "hamiltonian_series_to_flow_series_list(rc_poisson.h_full_series)"
   ]
  },
  {
   "cell_type": "code",
   "execution_count": 211,
   "id": "9f9ee268",
   "metadata": {},
   "outputs": [],
   "source": [
    "from resonant_chains import hamiltonian_series_to_flow_series_list\n",
    "from resonant_chains import real_vars_jacobian_series,_real_flow\n",
    "# reduced planar hamiltonian\n",
    "term_deg = lambda term: np.sum(term.p) + 0.5*np.sum(term.k + term.kbar)\n",
    "N_planar = rc_poisson.h_full_series.N // 2\n",
    "planar_terms = [\n",
    "    PSTerm(\n",
    "        term.C * rc_poisson.action_scale**(term_deg(term)-1),\n",
    "        term.k[:N_planar],\n",
    "        term.kbar[:N_planar],\n",
    "        term.p[1:],\n",
    "        term.q[1:]\n",
    "    )\n",
    "    for term in rc_poisson.h_full_series.terms\n",
    "    if np.alltrue(term.k[N_planar:]==0) and np.alltrue(term.kbar[N_planar:]==0) and term.p[0]==0\n",
    "]\n",
    "h_planar_series = PoissonSeries.from_PSTerms(planar_terms)\n",
    "planar_complex_flow_list = hamiltonian_series_to_flow_series_list(h_planar_series)\n",
    "planar_jacobian_list = real_vars_jacobian_series(planar_complex_flow_list)\n",
    "assert np.alltrue([term.q[0]==0 for term in h_planar_series.terms])"
   ]
  },
  {
   "cell_type": "code",
   "execution_count": 213,
   "id": "590c9419",
   "metadata": {},
   "outputs": [],
   "source": [
    "XX=np.concatenate((\n",
    "    guess[:rc_poisson.N_planar],\n",
    "    [0],\n",
    "    guess[rc_poisson.N_planar:2*rc_poisson.N_planar+rc_poisson.M],\n",
    "    [rc_poisson.dK2],\n",
    "    guess[-rc_poisson.M:]\n",
    "    )\n",
    ")"
   ]
  },
  {
   "cell_type": "code",
   "execution_count": 254,
   "id": "6bb884d7",
   "metadata": {},
   "outputs": [
    {
     "data": {
      "text/plain": [
       "array([-4.77801892e-19, -3.36624537e-19,  1.45318483e-19, -5.80001177e-19,\n",
       "        5.14996032e-19,  1.81603864e-18, -1.65393739e-19,  1.25793329e-18,\n",
       "       -1.45096219e-19, -2.96476657e-20, -2.32222685e-20, -1.48462376e-20,\n",
       "        0.00000000e+00])"
      ]
     },
     "execution_count": 254,
     "metadata": {},
     "output_type": "execute_result"
    }
   ],
   "source": [
    "asdf = _real_flow(\n",
    "    XX,\n",
    "    planar_complex_flow_list,\n",
    "    h_planar_series.N,\n",
    "    h_planar_series.M\n",
    ")\n",
    "N = rc_poisson.N_planar\n",
    "M = rc_poisson.M\n",
    "arr = asdf\n",
    "# #y, Qrest + x\n",
    "np.concatenate((arr[:N],arr[N+1:2*N+M+1],arr[2*N+M+2:],[arr[2*N+M+1]]))\n"
   ]
  },
  {
   "cell_type": "code",
   "execution_count": 245,
   "id": "48049eba",
   "metadata": {},
   "outputs": [],
   "source": [
    "indices = np.indices(asdf.shape)[0]\n",
    "indices = np.delete(indices,h_planar_series.N+1)\n",
    "indices[(-1,)] = indices[(,-1)]"
   ]
  },
  {
   "cell_type": "code",
   "execution_count": 247,
   "id": "bc55e53e",
   "metadata": {},
   "outputs": [
    {
     "data": {
      "text/plain": [
       "array([-4.77801892e-19, -3.36624537e-19,  1.45318483e-19, -5.80001177e-19,\n",
       "       -8.52705224e-04,  1.81603864e-18, -1.65393739e-19,  1.25793329e-18,\n",
       "       -1.45096219e-19, -2.96476657e-20,  0.00000000e+00, -2.32222685e-20,\n",
       "       -1.48462376e-20])"
      ]
     },
     "execution_count": 247,
     "metadata": {},
     "output_type": "execute_result"
    }
   ],
   "source": [
    "asdf[]"
   ]
  },
  {
   "cell_type": "code",
   "execution_count": 237,
   "id": "ba5b084b",
   "metadata": {},
   "outputs": [
    {
     "data": {
      "text/plain": [
       "array([-4.77801892e-19, -3.36624537e-19,  1.45318483e-19, -5.80001177e-19,\n",
       "       -8.52705224e-04,  5.14996032e-19,  1.81603864e-18, -1.65393739e-19,\n",
       "        1.25793329e-18, -1.45096219e-19, -2.96476657e-20,  0.00000000e+00,\n",
       "       -2.32222685e-20, -1.48462376e-20])"
      ]
     },
     "execution_count": 237,
     "metadata": {},
     "output_type": "execute_result"
    }
   ],
   "source": [
    "indices = np.arange(2*(N+M+1))"
   ]
  },
  {
   "cell_type": "code",
   "execution_count": 236,
   "id": "8e8de725",
   "metadata": {},
   "outputs": [
    {
     "data": {
      "text/latex": [
       "$\\displaystyle 0.0$"
      ],
      "text/plain": [
       "0.0"
      ]
     },
     "execution_count": 236,
     "metadata": {},
     "output_type": "execute_result"
    }
   ],
   "source": [
    "asdf[2 * rc_poisson.N_planar + rc_poisson.M + 1]"
   ]
  },
  {
   "cell_type": "code",
   "execution_count": 235,
   "id": "bb89d616",
   "metadata": {},
   "outputs": [
    {
     "data": {
      "text/plain": [
       "(array([0, 1, 2, 3]), array([5, 6]))"
      ]
     },
     "execution_count": 235,
     "metadata": {},
     "output_type": "execute_result"
    }
   ],
   "source": [
    "np.arange(rc_poisson.N_planar),np.arange(rc_poisson.N_planar+1,rc_poisson.N_planar+1+rc_poisson.M)"
   ]
  },
  {
   "cell_type": "code",
   "execution_count": 232,
   "id": "1376644f",
   "metadata": {},
   "outputs": [
    {
     "data": {
      "text/plain": [
       "array([-4.77801892e-19, -3.36624537e-19,  1.45318483e-19, -5.80001177e-19])"
      ]
     },
     "execution_count": 232,
     "metadata": {},
     "output_type": "execute_result"
    }
   ],
   "source": [
    "asdf[:rc_poisson.N_planar]"
   ]
  },
  {
   "cell_type": "code",
   "execution_count": 228,
   "id": "dd5b4234",
   "metadata": {},
   "outputs": [
    {
     "data": {
      "text/plain": [
       "array([-3.15937617e-19, -5.18253924e-19,  1.93982580e-19, -4.19933729e-19,\n",
       "        1.31713623e-19,  1.81942677e-18, -1.55211712e-19,  1.52685858e-18,\n",
       "       -9.61326495e-20, -3.08455512e-20, -5.65956975e-21, -2.77601814e-21])"
      ]
     },
     "execution_count": 228,
     "metadata": {},
     "output_type": "execute_result"
    }
   ],
   "source": [
    "rc_poisson.planar_flow(guess)"
   ]
  },
  {
   "cell_type": "code",
   "execution_count": 220,
   "id": "4b356cb0",
   "metadata": {},
   "outputs": [],
   "source": [
    "import numpy as np\n",
    "\n",
    "def rearrange_array(arr, N, M):\n",
    "    \"\"\"\n",
    "    Rearranges a numpy array of length 2*(N+M)+1 into a new array of length 2*(N+M+1)\n",
    "    according to the specified pattern.\n",
    "\n",
    "    Parameters\n",
    "    ----------\n",
    "    arr : numpy.ndarray\n",
    "        Input array of length 2*(N+M)+1.\n",
    "    N : int\n",
    "        Number of initial and middle entries to preserve.\n",
    "    M : int\n",
    "        Number of entries between the inserted zero and the middle N.\n",
    "\n",
    "    Returns\n",
    "    -------\n",
    "    numpy.ndarray\n",
    "        Rearranged array of length 2*(N+M+1).\n",
    "    \"\"\"\n",
    "    assert len(arr) == 2 * (N + M) + 1, \"Input array must have length 2*(N+M)+1\"\n",
    "    \n",
    "    part1 = arr[:N]\n",
    "    zero = np.array([0])\n",
    "    part2 = arr[N:N+(M+N)]\n",
    "    part3 = np.array([arr[-1]])\n",
    "    part4 = arr[2*N+M:2*N+2*M]\n",
    "\n",
    "    return np.concatenate([part1, zero, part2, part3, part4])\n"
   ]
  },
  {
   "cell_type": "code",
   "execution_count": 223,
   "id": "a5cca582",
   "metadata": {},
   "outputs": [],
   "source": [
    "result = rearrange_array(np.concatenate((guess,[rc_poisson.dK2])),h_planar_series.N,h_planar_series.M-1)"
   ]
  },
  {
   "cell_type": "code",
   "execution_count": 224,
   "id": "e48689fb",
   "metadata": {},
   "outputs": [
    {
     "data": {
      "text/plain": [
       "array([0., 0., 0., 0., 0., 0., 0., 0., 0., 0., 0., 0., 0., 0.])"
      ]
     },
     "execution_count": 224,
     "metadata": {},
     "output_type": "execute_result"
    }
   ],
   "source": [
    "XX-result"
   ]
  },
  {
   "cell_type": "code",
   "execution_count": null,
   "id": "5487524c",
   "metadata": {},
   "outputs": [],
   "source": []
  }
 ],
 "metadata": {
  "kernelspec": {
   "display_name": "Python 3 (ipykernel)",
   "language": "python",
   "name": "python3"
  },
  "language_info": {
   "codemirror_mode": {
    "name": "ipython",
    "version": 3
   },
   "file_extension": ".py",
   "mimetype": "text/x-python",
   "name": "python",
   "nbconvert_exporter": "python",
   "pygments_lexer": "ipython3",
   "version": "3.11.3"
  }
 },
 "nbformat": 4,
 "nbformat_minor": 5
}
